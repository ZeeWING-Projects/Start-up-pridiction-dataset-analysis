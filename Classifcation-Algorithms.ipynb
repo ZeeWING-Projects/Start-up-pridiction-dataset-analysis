{
 "cells": [
  {
   "cell_type": "code",
   "execution_count": 14,
   "metadata": {},
   "outputs": [],
   "source": [
    "import pandas as pd\n",
    "import numpy as np\n",
    "import matplotlib.pyplot as plt\n",
    "import seaborn as sns\n",
    "import warnings\n",
    "import six\n",
    "\n",
    "import sys\n",
    "sys.modules['sklearn.externals.six'] = six\n",
    "import mlrose\n",
    "\n",
    "from sklearn import preprocessing\n",
    "from sklearn.preprocessing import LabelEncoder\n",
    "from sklearn.preprocessing import OrdinalEncoder\n",
    "from imblearn.over_sampling import SMOTE\n",
    "from sklearn.impute import KNNImputer\n",
    "warnings.filterwarnings('ignore')"
   ]
  },
  {
   "cell_type": "code",
   "execution_count": 15,
   "metadata": {},
   "outputs": [
    {
     "name": "stdout",
     "output_type": "stream",
     "text": [
      "The data frame has 923 rows and 40 columns. \n",
      "\n"
     ]
    }
   ],
   "source": [
    "#loading dataset\n",
    "\n",
    "data = pd.read_csv('Dataset_02_non_standarized_.csv');\n",
    "\n",
    "print(\"The data frame has {0[0]} rows and {0[1]} columns. \\n\".format(data.shape))\n",
    "#data.info()\n",
    "#data.head(3)\n"
   ]
  },
  {
   "cell_type": "code",
   "execution_count": 16,
   "metadata": {},
   "outputs": [
    {
     "name": "stdout",
     "output_type": "stream",
     "text": [
      "The data has 923 status(Classes) which include 597 aquiured and 326 close.\n"
     ]
    }
   ],
   "source": [
    "#Counting the number of records according to classes\n",
    "status_all = list(data.shape)[0]\n",
    "status_categories = list(data['is_acquired'].value_counts())\n",
    "\n",
    "print(\"The data has {} status(Classes) which include {} aquiured and {} close.\".format(status_all, \n",
    "                                                                                 status_categories[0], \n",
    "                                                                                status_categories[1]))"
   ]
  },
  {
   "cell_type": "code",
   "execution_count": 17,
   "metadata": {},
   "outputs": [],
   "source": [
    "features_mean= list(data.columns[0:39])\n",
    "\n",
    "X = data.loc[:,features_mean]\n",
    "y = data.loc[:, 'is_acquired']\n",
    "sm = SMOTE(random_state=42)\n",
    "# X_sm, y_sm = sm.fit_resample(X, y)\n"
   ]
  },
  {
   "cell_type": "code",
   "execution_count": 18,
   "metadata": {},
   "outputs": [],
   "source": [
    "# Numebr of records after smoting\n",
    "# status_all = list(X_sm.shape)[0]\n",
    "\n",
    "# print(\"The data has status(Classes) which include aquiured and {} close.\".format(status_all))"
   ]
  },
  {
   "cell_type": "code",
   "execution_count": 19,
   "metadata": {},
   "outputs": [],
   "source": [
    "# from sklearn.preprocessing import StandardScaler\n",
    "# ss = StandardScaler()\n",
    "# X_sm = ss.fit_transform(X_sm)\n",
    "# data.head()"
   ]
  },
  {
   "cell_type": "code",
   "execution_count": 20,
   "metadata": {},
   "outputs": [],
   "source": [
    "# Making division of dataset for testing and training\n",
    "from sklearn.model_selection import train_test_split, cross_val_score\n",
    "from sklearn.metrics import confusion_matrix, accuracy_score,plot_confusion_matrix\n",
    "import time\n",
    "\n",
    "\n",
    "X_train, X_test, y_train, y_test = train_test_split(X, y, test_size = 0.1, random_state = 42)\n",
    "\n",
    "accuracy_all = []\n",
    "cvs_all = []"
   ]
  },
  {
   "cell_type": "code",
   "execution_count": 21,
   "metadata": {},
   "outputs": [
    {
     "name": "stdout",
     "output_type": "stream",
     "text": [
      "SGD Classifier Accuracy: 58.06%\n",
      "Cross validation score: 58.73% (+/- 23.60%)\n",
      "Execution time: 0.052828 seconds \n",
      "\n",
      "[[ 0 39]\n",
      " [ 0 54]]\n"
     ]
    },
    {
     "data": {
      "image/png": "[encoded data removed]",
      "text/plain": [
       "<Figure size 432x288 with 2 Axes>"
      ]
     },
     "metadata": {
      "needs_background": "light"
     },
     "output_type": "display_data"
    }
   ],
   "source": [
    "from sklearn.linear_model import SGDClassifier\n",
    "\n",
    "start = time.time()\n",
    "\n",
    "clf = SGDClassifier()\n",
    "clf.fit(X_train, y_train)\n",
    "prediction = clf.predict(X_test)\n",
    "scores = cross_val_score(clf, X, y, cv=5)\n",
    "\n",
    "end = time.time()\n",
    "\n",
    "accuracy_all.append(accuracy_score(prediction, y_test))\n",
    "cvs_all.append(np.mean(scores))\n",
    "\n",
    "\n",
    "\n",
    "print(\"SGD Classifier Accuracy: {0:.2%}\".format(accuracy_score(prediction, y_test)))\n",
    "print(\"Cross validation score: {0:.2%} (+/- {1:.2%})\".format(np.mean(scores), np.std(scores)*2))\n",
    "print(\"Execution time: {0:.5} seconds \\n\".format(end-start))\n",
    "\n",
    "cm = confusion_matrix(y_test, prediction)\n",
    "print(cm)\n",
    "\n",
    "plot_confusion_matrix(clf, X_test, y_test)  \n",
    "plt.show()  "
   ]
  },
  {
   "cell_type": "code",
   "execution_count": 22,
   "metadata": {},
   "outputs": [
    {
     "name": "stdout",
     "output_type": "stream",
     "text": [
      "SVC Accuracy: 58.06%\n",
      "Cross validation score: 64.68% (+/- 0.39%)\n",
      "Execution time: 0.2473 seconds \n",
      "\n",
      "[[ 0 39]\n",
      " [ 0 54]]\n"
     ]
    },
    {
     "data": {
      "image/png": "[encoded data removed]",
      "text/plain": [
       "<Figure size 432x288 with 2 Axes>"
      ]
     },
     "metadata": {
      "needs_background": "light"
     },
     "output_type": "display_data"
    },
    {
     "name": "stdout",
     "output_type": "stream",
     "text": [
      "NuSVC Accuracy: 58.06%\n",
      "Cross validation score: 57.09% (+/- 13.26%)\n",
      "Execution time: 0.16902 seconds \n",
      "\n",
      "[[ 0 39]\n",
      " [ 0 54]]\n"
     ]
    },
    {
     "data": {
      "image/png": "[encoded data removed]",
      "text/plain": [
       "<Figure size 432x288 with 2 Axes>"
      ]
     },
     "metadata": {
      "needs_background": "light"
     },
     "output_type": "display_data"
    },
    {
     "name": "stdout",
     "output_type": "stream",
     "text": [
      "LinearSVC Accuracy: 41.94%\n",
      "Cross validation score: 57.41% (+/- 26.89%)\n",
      "Execution time: 0.31479 seconds \n",
      "\n",
      "[[38  1]\n",
      " [53  1]]\n"
     ]
    },
    {
     "data": {
      "image/png": "[encoded data removed]",
      "text/plain": [
       "<Figure size 432x288 with 2 Axes>"
      ]
     },
     "metadata": {
      "needs_background": "light"
     },
     "output_type": "display_data"
    }
   ],
   "source": [
    "#NOW APPLY THE CLASSIFIERS\n",
    "from sklearn.svm import SVC, NuSVC, LinearSVC\n",
    "\n",
    "start = time.time()\n",
    "\n",
    "clf = SVC()\n",
    "clf.fit(X_train, y_train)\n",
    "prediction = clf.predict(X_test)\n",
    "scores = cross_val_score(clf, X, y, cv=5)\n",
    "\n",
    "end = time.time()\n",
    "\n",
    "accuracy_all.append(accuracy_score(prediction, y_test))\n",
    "cvs_all.append(np.mean(scores))\n",
    "\n",
    "print(\"SVC Accuracy: {0:.2%}\".format(accuracy_score(prediction, y_test)))\n",
    "print(\"Cross validation score: {0:.2%} (+/- {1:.2%})\".format(np.mean(scores), np.std(scores)*2))\n",
    "print(\"Execution time: {0:.5} seconds \\n\".format(end-start))\n",
    "\n",
    "cm = confusion_matrix(y_test, prediction)\n",
    "print(cm)\n",
    "\n",
    "plot_confusion_matrix(clf, X_test, y_test)  \n",
    "plt.show()  \n",
    "\n",
    "start = time.time()\n",
    "\n",
    "clf = NuSVC()\n",
    "clf.fit(X_train, y_train)\n",
    "prediciton = clf.predict(X_test)\n",
    "scores = cross_val_score(clf, X, y, cv=5)\n",
    "\n",
    "end = time.time()\n",
    "\n",
    "accuracy_all.append(accuracy_score(prediction, y_test))\n",
    "cvs_all.append(np.mean(scores))\n",
    "\n",
    "print(\"NuSVC Accuracy: {0:.2%}\".format(accuracy_score(prediction, y_test)))\n",
    "print(\"Cross validation score: {0:.2%} (+/- {1:.2%})\".format(np.mean(scores), np.std(scores)*2))\n",
    "print(\"Execution time: {0:.5} seconds \\n\".format(end-start))\n",
    "\n",
    "\n",
    "cm = confusion_matrix(y_test, prediction)\n",
    "print(cm)\n",
    "\n",
    "plot_confusion_matrix(clf, X_test, y_test)  \n",
    "plt.show()  \n",
    "\n",
    "start = time.time()\n",
    "\n",
    "clf = LinearSVC()\n",
    "clf.fit(X_train, y_train)\n",
    "prediction = clf.predict(X_test)\n",
    "scores = cross_val_score(clf, X, y, cv=5)\n",
    "\n",
    "end = time.time()\n",
    "\n",
    "accuracy_all.append(accuracy_score(prediction, y_test))\n",
    "cvs_all.append(np.mean(scores))\n",
    "\n",
    "print(\"LinearSVC Accuracy: {0:.2%}\".format(accuracy_score(prediction, y_test)))\n",
    "print(\"Cross validation score: {0:.2%} (+/- {1:.2%})\".format(np.mean(scores), np.std(scores)*2))\n",
    "print(\"Execution time: {0:.5} seconds \\n\".format(end-start))\n",
    "\n",
    "\n",
    "cm = confusion_matrix(y_test, prediction)\n",
    "print(cm)\n",
    "\n",
    "plot_confusion_matrix(clf, X_test, y_test)  \n",
    "plt.show()  "
   ]
  },
  {
   "cell_type": "code",
   "execution_count": 23,
   "metadata": {},
   "outputs": [
    {
     "name": "stdout",
     "output_type": "stream",
     "text": [
      "KNeighborsClassifier Accuracy: 54.84%\n",
      "Cross validation score: 62.73% (+/- 5.33%)\n",
      "Execution time: 0.092176 seconds \n",
      "\n",
      "[[ 8 31]\n",
      " [11 43]]\n"
     ]
    },
    {
     "data": {
      "image/png": "[encoded data removed]",
      "text/plain": [
       "<Figure size 432x288 with 2 Axes>"
      ]
     },
     "metadata": {
      "needs_background": "light"
     },
     "output_type": "display_data"
    }
   ],
   "source": [
    "from sklearn.neighbors import KNeighborsClassifier\n",
    "\n",
    "start = time.time()\n",
    "\n",
    "clf = KNeighborsClassifier()\n",
    "clf.fit(X_train, y_train)\n",
    "prediction = clf.predict(X_test)\n",
    "scores = cross_val_score(clf, X, y, cv=5)\n",
    "\n",
    "end = time.time()\n",
    "\n",
    "accuracy_all.append(accuracy_score(prediction, y_test))\n",
    "cvs_all.append(np.mean(scores))\n",
    "\n",
    "print(\"KNeighborsClassifier Accuracy: {0:.2%}\".format(accuracy_score(prediction, y_test)))\n",
    "print(\"Cross validation score: {0:.2%} (+/- {1:.2%})\".format(np.mean(scores), np.std(scores)*2))\n",
    "print(\"Execution time: {0:.5} seconds \\n\".format(end-start))\n",
    "\n",
    "\n",
    "cm = confusion_matrix(y_test, prediction)\n",
    "print(cm)\n",
    "plot_confusion_matrix(clf, X_test, y_test)  \n",
    "plt.show()  "
   ]
  },
  {
   "cell_type": "code",
   "execution_count": 24,
   "metadata": {},
   "outputs": [
    {
     "name": "stdout",
     "output_type": "stream",
     "text": [
      "GaussianNB Accuracy: 43.01%\n",
      "Cross validation score: 42.67% (+/- 21.14%)\n",
      "Execution time: 0.036902 seconds \n",
      "\n",
      "[[39  0]\n",
      " [53  1]]\n"
     ]
    },
    {
     "data": {
      "image/png": "[encoded data removed]",
      "text/plain": [
       "<Figure size 432x288 with 2 Axes>"
      ]
     },
     "metadata": {
      "needs_background": "light"
     },
     "output_type": "display_data"
    }
   ],
   "source": [
    "from sklearn.naive_bayes import GaussianNB\n",
    "\n",
    "start = time.time()\n",
    "\n",
    "clf = GaussianNB()\n",
    "clf.fit(X_train, y_train)\n",
    "prediction = clf.predict(X_test)\n",
    "scores = cross_val_score(clf, X, y, cv=5)\n",
    "\n",
    "end = time.time()\n",
    "\n",
    "accuracy_all.append(accuracy_score(prediction, y_test))\n",
    "cvs_all.append(np.mean(scores))\n",
    "\n",
    "print(\"GaussianNB Accuracy: {0:.2%}\".format(accuracy_score(prediction, y_test)))\n",
    "print(\"Cross validation score: {0:.2%} (+/- {1:.2%})\".format(np.mean(scores), np.std(scores)*2))\n",
    "print(\"Execution time: {0:.5} seconds \\n\".format(end-start))\n",
    "\n",
    "\n",
    "cm = confusion_matrix(y_test, prediction)\n",
    "print(cm)\n",
    "plot_confusion_matrix(clf, X_test, y_test)  \n",
    "plt.show()  \n"
   ]
  },
  {
   "cell_type": "code",
   "execution_count": 25,
   "metadata": {},
   "outputs": [
    {
     "name": "stdout",
     "output_type": "stream",
     "text": [
      "Random Forest Accuracy: 78.49%\n",
      "Cross validation score: 80.28% (+/- 1.54%)\n",
      "Execution time: 1.3247 seconds \n",
      "\n",
      "[[24 15]\n",
      " [ 5 49]]\n"
     ]
    },
    {
     "data": {
      "image/png": "[encoded data removed]",
      "text/plain": [
       "<Figure size 432x288 with 2 Axes>"
      ]
     },
     "metadata": {
      "needs_background": "light"
     },
     "output_type": "display_data"
    },
    {
     "name": "stdout",
     "output_type": "stream",
     "text": [
      "Extra Trees Accuracy: 74.19%\n",
      "Cross validation score: 77.14% (+/- 2.08%)\n",
      "Execution time: 1.0145 seconds \n",
      "\n",
      "[[19 20]\n",
      " [ 4 50]]\n"
     ]
    },
    {
     "data": {
      "image/png": "[encoded data removed]",
      "text/plain": [
       "<Figure size 432x288 with 2 Axes>"
      ]
     },
     "metadata": {
      "needs_background": "light"
     },
     "output_type": "display_data"
    },
    {
     "name": "stdout",
     "output_type": "stream",
     "text": [
      "Dedicion Tree Accuracy: 69.89%\n",
      "Cross validation score: 68.47% (+/- 3.52%)\n",
      "Execution time: 0.072263 seconds \n",
      "\n",
      "[[22 17]\n",
      " [11 43]]\n"
     ]
    },
    {
     "data": {
      "image/png": "[encoded data removed]",
      "text/plain": [
       "<Figure size 432x288 with 2 Axes>"
      ]
     },
     "metadata": {
      "needs_background": "light"
     },
     "output_type": "display_data"
    }
   ],
   "source": [
    "from sklearn.ensemble import RandomForestClassifier\n",
    "from sklearn.ensemble import ExtraTreesClassifier\n",
    "from sklearn.tree import DecisionTreeClassifier\n",
    "\n",
    "start = time.time()\n",
    "\n",
    "clf = RandomForestClassifier()\n",
    "clf.fit(X_train, y_train)\n",
    "prediction = clf.predict(X_test)\n",
    "scores = cross_val_score(clf, X, y, cv=5)\n",
    "\n",
    "end = time.time()\n",
    "\n",
    "accuracy_all.append(accuracy_score(prediction, y_test))\n",
    "cvs_all.append(np.mean(scores))\n",
    "\n",
    "print(\"Random Forest Accuracy: {0:.2%}\".format(accuracy_score(prediction, y_test)))\n",
    "print(\"Cross validation score: {0:.2%} (+/- {1:.2%})\".format(np.mean(scores), np.std(scores)*2))\n",
    "print(\"Execution time: {0:.5} seconds \\n\".format(end-start))\n",
    "\n",
    "\n",
    "cm = confusion_matrix(y_test, prediction)\n",
    "print(cm)\n",
    "plot_confusion_matrix(clf, X_test, y_test)  \n",
    "plt.show()  \n",
    "\n",
    "start = time.time()\n",
    "\n",
    "clf = ExtraTreesClassifier()\n",
    "clf.fit(X_train, y_train)\n",
    "prediction = clf.predict(X_test)\n",
    "scores = cross_val_score(clf, X, y, cv=5)\n",
    "\n",
    "end = time.time()\n",
    "\n",
    "accuracy_all.append(accuracy_score(prediction, y_test))\n",
    "cvs_all.append(np.mean(scores))\n",
    "\n",
    "print(\"Extra Trees Accuracy: {0:.2%}\".format(accuracy_score(prediction, y_test)))\n",
    "print(\"Cross validation score: {0:.2%} (+/- {1:.2%})\".format(np.mean(scores), np.std(scores)*2))\n",
    "print(\"Execution time: {0:.5} seconds \\n\".format(end-start))\n",
    "\n",
    "cm = confusion_matrix(y_test, prediction)\n",
    "print(cm)\n",
    "plot_confusion_matrix(clf, X_test, y_test)  \n",
    "plt.show()  \n",
    "\n",
    "start = time.time()\n",
    "\n",
    "clf = DecisionTreeClassifier()\n",
    "clf.fit(X_train, y_train)\n",
    "prediction = clf.predict(X_test)\n",
    "scores = cross_val_score(clf, X, y, cv=5)\n",
    "\n",
    "end = time.time()\n",
    "\n",
    "accuracy_all.append(accuracy_score(prediction, y_test))\n",
    "cvs_all.append(np.mean(scores))\n",
    "\n",
    "print(\"Dedicion Tree Accuracy: {0:.2%}\".format(accuracy_score(prediction, y_test)))\n",
    "print(\"Cross validation score: {0:.2%} (+/- {1:.2%})\".format(np.mean(scores), np.std(scores)*2))\n",
    "print(\"Execution time: {0:.5} seconds \\n\".format(end-start))\n",
    "\n",
    "cm = confusion_matrix(y_test, prediction)\n",
    "print(cm)\n",
    "plot_confusion_matrix(clf, X_test, y_test)  \n",
    "plt.show()  "
   ]
  },
  {
   "cell_type": "code",
   "execution_count": 13,
   "metadata": {},
   "outputs": [],
   "source": [
    "from sklearn.ensemble import RandomForestClassifier, AdaBoostClassifier, GradientBoostingClassifier, ExtraTreesClassifier, VotingClassifier\n",
    "from sklearn.discriminant_analysis import LinearDiscriminantAnalysis\n",
    "from sklearn.linear_model import LogisticRegression\n",
    "from sklearn.neighbors import KNeighborsClassifier\n",
    "from sklearn.tree import DecisionTreeClassifier\n",
    "from sklearn.neural_network import MLPClassifier\n",
    "from sklearn.svm import SVC\n",
    "from sklearn.model_selection import GridSearchCV, cross_val_score, StratifiedKFold, learning_curve\n",
    "#import imputer:\n",
    "from sklearn.impute import KNNImputer\n",
    "#score\n",
    "from sklearn.metrics import f1_score\n",
    "from sklearn.ensemble import StackingClassifier"
   ]
  },
  {
   "cell_type": "code",
   "execution_count": 179,
   "metadata": {},
   "outputs": [
    {
     "data": {
      "image/png": "[encoded data removed]",
      "text/plain": [
       "<Figure size 432x288 with 1 Axes>"
      ]
     },
     "metadata": {
      "needs_background": "light"
     },
     "output_type": "display_data"
    }
   ],
   "source": [
    "# All in one \n",
    "y=data[\"is_acquired\"]\n",
    "X= data.loc[:, data.columns != 'is_acquired']\n",
    "X_train, X_test, y_train, y_test=train_test_split(X_sm,y_sm,test_size=0.2, random_state=42)\n",
    "\n",
    "# Cross validate model with Kfold stratified cross val\n",
    "kfold = StratifiedKFold(n_splits=10)\n",
    "\n",
    "# Modeling step Test differents algorithms \n",
    "random_state = 2\n",
    "classifiers = []\n",
    "classifiers.append(SVC(random_state=random_state))\n",
    "classifiers.append(DecisionTreeClassifier(random_state=random_state))\n",
    "classifiers.append(AdaBoostClassifier(DecisionTreeClassifier(random_state=random_state),random_state=random_state,learning_rate=0.1))\n",
    "classifiers.append(RandomForestClassifier(random_state=random_state))\n",
    "classifiers.append(ExtraTreesClassifier(random_state=random_state))\n",
    "classifiers.append(GradientBoostingClassifier(random_state=random_state))\n",
    "classifiers.append(MLPClassifier(random_state=random_state))\n",
    "classifiers.append(KNeighborsClassifier())\n",
    "classifiers.append(LogisticRegression(random_state = random_state))\n",
    "classifiers.append(LinearDiscriminantAnalysis())\n",
    "\n",
    "cv_results = []\n",
    "for classifier in classifiers :\n",
    "    cv_results.append(cross_val_score(classifier, X_train, y = y_train, scoring = \"accuracy\", cv = kfold, n_jobs=-1))\n",
    "\n",
    "cv_means = []\n",
    "cv_std = []\n",
    "for cv_result in cv_results:\n",
    "    cv_means.append(cv_result.mean())\n",
    "    cv_std.append(cv_result.std())\n",
    "\n",
    "cv_res = pd.DataFrame({\"CrossValMeans\":cv_means,\"CrossValerrors\": cv_std,\"Algorithm\":[\"SVC\",\"DecisionTree\",\"AdaBoost\",\n",
    "\"RandomForest\",\"ExtraTrees\",\"GradientBoosting\",\"MultipleLayerPerceptron\",\"KNeighboors\",\"LogisticRegression\",\"LinearDiscriminantAnalysis\"]})\n",
    "\n",
    "g = sns.barplot(\"CrossValMeans\",\"Algorithm\",data = cv_res, palette=\"Set3\",orient = \"h\",**{'xerr':cv_std})\n",
    "g.set_xlabel(\"Mean Accuracy\")\n",
    "g = g.set_title(\"Cross validation scores\")\n",
    "plt.show()"
   ]
  },
  {
   "cell_type": "code",
   "execution_count": null,
   "metadata": {},
   "outputs": [],
   "source": []
  },
  {
   "cell_type": "code",
   "execution_count": null,
   "metadata": {},
   "outputs": [],
   "source": []
  },
  {
   "cell_type": "code",
   "execution_count": null,
   "metadata": {},
   "outputs": [],
   "source": []
  }
 ],
 "metadata": {
  "kernelspec": {
   "display_name": "Python 3",
   "language": "python",
   "name": "python3"
  },
  "language_info": {
   "codemirror_mode": {
    "name": "ipython",
    "version": 3
   },
   "file_extension": ".py",
   "mimetype": "text/x-python",
   "name": "python",
   "nbconvert_exporter": "python",
   "pygments_lexer": "ipython3",
   "version": "3.8.5"
  }
 },
 "nbformat": 4,
 "nbformat_minor": 4
}
