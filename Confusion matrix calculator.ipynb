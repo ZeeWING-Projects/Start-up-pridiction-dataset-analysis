{
 "cells": [
  {
   "cell_type": "code",
   "execution_count": 42,
   "metadata": {},
   "outputs": [],
   "source": [
    "import numpy as np\n",
    "import math"
   ]
  },
  {
   "cell_type": "code",
   "execution_count": 66,
   "metadata": {},
   "outputs": [
    {
     "name": "stdout",
     "output_type": "stream",
     "text": [
      "Sensitivity is 79.365 % \n",
      "Specificity is 77.193 %\n",
      "Percision is 79.365 %\n",
      "-ve prid:  are 77.193 %\n",
      "Calc Accuracy is 78.333 %\n",
      "MCC is 0.566 \n",
      "Error rate is 0.217 %\n"
     ]
    }
   ],
   "source": [
    "#              Pridicted  Y     N                  \n",
    "#        Actual      Y   [TP   FN]\n",
    "#        Actual      N   [FP   TN]\n",
    "\n",
    "\n",
    "TP = 50\n",
    "FN = 13\n",
    "FP = 13\n",
    "TN = 44\n",
    "\n",
    "P=(TP+FN)\n",
    "Sensitivity = (TP/P)*100\n",
    "\n",
    "P=(TN+FP)\n",
    "Specificity=(TN/P)*100\n",
    "\n",
    "P=(TP+FP)\n",
    "Percision = (TP/P)*100\n",
    "P=(TN+FN)\n",
    "Negative_Prid_Value = (TN/P)*100\n",
    "\n",
    "N = TP+TN\n",
    "P=TP+TN+FP+FN\n",
    "\n",
    "Accuracy = (N/P)*100\n",
    "Error_rate = (1-(N/P))\n",
    "\n",
    "N = ((TP*TN)-(FP*FN))\n",
    "P = math.sqrt((TP+FP)*(TP+FN)*(TN+FP)*(TN+FN))\n",
    "\n",
    "MCC = (N/P)\n",
    "\n",
    "print(\"Sensitivity is {} % \".format(round(Sensitivity,3)))\n",
    "print(\"Specificity is {} %\".format(round(Specificity,3)))\n",
    "print(\"Percision is {} %\".format(round(Percision,3)))\n",
    "print(\"-ve prid:  are {} %\".format(round(Negative_Prid_Value,3)))\n",
    "print(\"Calc Accuracy is {} %\".format(round(Accuracy,3)))\n",
    "print(\"MCC is {} \".format(round(MCC,3)))\n",
    "print(\"Error rate is {} %\".format(round(Error_rate,3)))\n",
    "\n",
    "\n",
    "\n"
   ]
  },
  {
   "cell_type": "code",
   "execution_count": null,
   "metadata": {},
   "outputs": [],
   "source": []
  },
  {
   "cell_type": "code",
   "execution_count": null,
   "metadata": {},
   "outputs": [],
   "source": []
  }
 ],
 "metadata": {
  "kernelspec": {
   "display_name": "Python 3",
   "language": "python",
   "name": "python3"
  },
  "language_info": {
   "codemirror_mode": {
    "name": "ipython",
    "version": 3
   },
   "file_extension": ".py",
   "mimetype": "text/x-python",
   "name": "python",
   "nbconvert_exporter": "python",
   "pygments_lexer": "ipython3",
   "version": "3.8.5"
  }
 },
 "nbformat": 4,
 "nbformat_minor": 4
}
